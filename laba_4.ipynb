{
 "cells": [
  {
   "cell_type": "code",
   "execution_count": 31,
   "id": "e8cc9781",
   "metadata": {},
   "outputs": [],
   "source": [
    "import pandas as pd\n",
    "from matplotlib import pyplot as plt\n",
    "import numpy as np\n",
    "import matplotlib.pyplot as plt\n",
    "import colorsys"
   ]
  },
  {
   "cell_type": "code",
   "execution_count": 32,
   "id": "478d5533",
   "metadata": {},
   "outputs": [
    {
     "data": {
      "text/html": [
       "<div>\n",
       "<style scoped>\n",
       "    .dataframe tbody tr th:only-of-type {\n",
       "        vertical-align: middle;\n",
       "    }\n",
       "\n",
       "    .dataframe tbody tr th {\n",
       "        vertical-align: top;\n",
       "    }\n",
       "\n",
       "    .dataframe thead th {\n",
       "        text-align: right;\n",
       "    }\n",
       "</style>\n",
       "<table border=\"1\" class=\"dataframe\">\n",
       "  <thead>\n",
       "    <tr style=\"text-align: right;\">\n",
       "      <th></th>\n",
       "      <th>x</th>\n",
       "      <th>y</th>\n",
       "      <th>Unnamed: 2</th>\n",
       "    </tr>\n",
       "  </thead>\n",
       "  <tbody>\n",
       "    <tr>\n",
       "      <th>0</th>\n",
       "      <td>0.0</td>\n",
       "      <td>1.00000</td>\n",
       "      <td>NaN</td>\n",
       "    </tr>\n",
       "    <tr>\n",
       "      <th>1</th>\n",
       "      <td>0.1</td>\n",
       "      <td>1.09928</td>\n",
       "      <td>NaN</td>\n",
       "    </tr>\n",
       "    <tr>\n",
       "      <th>2</th>\n",
       "      <td>0.2</td>\n",
       "      <td>1.19431</td>\n",
       "      <td>NaN</td>\n",
       "    </tr>\n",
       "    <tr>\n",
       "      <th>3</th>\n",
       "      <td>0.3</td>\n",
       "      <td>1.28546</td>\n",
       "      <td>NaN</td>\n",
       "    </tr>\n",
       "    <tr>\n",
       "      <th>4</th>\n",
       "      <td>0.4</td>\n",
       "      <td>1.37306</td>\n",
       "      <td>NaN</td>\n",
       "    </tr>\n",
       "  </tbody>\n",
       "</table>\n",
       "</div>"
      ],
      "text/plain": [
       "     x        y  Unnamed: 2\n",
       "0  0.0  1.00000         NaN\n",
       "1  0.1  1.09928         NaN\n",
       "2  0.2  1.19431         NaN\n",
       "3  0.3  1.28546         NaN\n",
       "4  0.4  1.37306         NaN"
      ]
     },
     "execution_count": 32,
     "metadata": {},
     "output_type": "execute_result"
    }
   ],
   "source": [
    "table_model = pd.read_csv(\"model.csv\" , sep=';')\n",
    "table_model.head()"
   ]
  },
  {
   "cell_type": "code",
   "execution_count": 33,
   "id": "803073c8",
   "metadata": {},
   "outputs": [
    {
     "data": {
      "text/html": [
       "<div>\n",
       "<style scoped>\n",
       "    .dataframe tbody tr th:only-of-type {\n",
       "        vertical-align: middle;\n",
       "    }\n",
       "\n",
       "    .dataframe tbody tr th {\n",
       "        vertical-align: top;\n",
       "    }\n",
       "\n",
       "    .dataframe thead th {\n",
       "        text-align: right;\n",
       "    }\n",
       "</style>\n",
       "<table border=\"1\" class=\"dataframe\">\n",
       "  <thead>\n",
       "    <tr style=\"text-align: right;\">\n",
       "      <th></th>\n",
       "      <th>x</th>\n",
       "      <th>y</th>\n",
       "      <th>Unnamed: 2</th>\n",
       "    </tr>\n",
       "  </thead>\n",
       "  <tbody>\n",
       "    <tr>\n",
       "      <th>0</th>\n",
       "      <td>0.0</td>\n",
       "      <td>1.00000</td>\n",
       "      <td>NaN</td>\n",
       "    </tr>\n",
       "    <tr>\n",
       "      <th>1</th>\n",
       "      <td>0.1</td>\n",
       "      <td>1.13191</td>\n",
       "      <td>NaN</td>\n",
       "    </tr>\n",
       "    <tr>\n",
       "      <th>2</th>\n",
       "      <td>0.2</td>\n",
       "      <td>1.25262</td>\n",
       "      <td>NaN</td>\n",
       "    </tr>\n",
       "    <tr>\n",
       "      <th>3</th>\n",
       "      <td>0.3</td>\n",
       "      <td>1.36178</td>\n",
       "      <td>NaN</td>\n",
       "    </tr>\n",
       "    <tr>\n",
       "      <th>4</th>\n",
       "      <td>0.4</td>\n",
       "      <td>1.45990</td>\n",
       "      <td>NaN</td>\n",
       "    </tr>\n",
       "  </tbody>\n",
       "</table>\n",
       "</div>"
      ],
      "text/plain": [
       "     x        y  Unnamed: 2\n",
       "0  0.0  1.00000         NaN\n",
       "1  0.1  1.13191         NaN\n",
       "2  0.2  1.25262         NaN\n",
       "3  0.3  1.36178         NaN\n",
       "4  0.4  1.45990         NaN"
      ]
     },
     "execution_count": 33,
     "metadata": {},
     "output_type": "execute_result"
    }
   ],
   "source": [
    "table_actual = pd.read_csv(\"actual.csv\" , sep=';')\n",
    "table_actual.head()"
   ]
  },
  {
   "cell_type": "code",
   "execution_count": 34,
   "id": "7dc32f43",
   "metadata": {},
   "outputs": [
    {
     "data": {
      "text/html": [
       "<div>\n",
       "<style scoped>\n",
       "    .dataframe tbody tr th:only-of-type {\n",
       "        vertical-align: middle;\n",
       "    }\n",
       "\n",
       "    .dataframe tbody tr th {\n",
       "        vertical-align: top;\n",
       "    }\n",
       "\n",
       "    .dataframe thead th {\n",
       "        text-align: right;\n",
       "    }\n",
       "</style>\n",
       "<table border=\"1\" class=\"dataframe\">\n",
       "  <thead>\n",
       "    <tr style=\"text-align: right;\">\n",
       "      <th></th>\n",
       "      <th>x</th>\n",
       "      <th>y</th>\n",
       "      <th>Unnamed: 2</th>\n",
       "    </tr>\n",
       "  </thead>\n",
       "  <tbody>\n",
       "    <tr>\n",
       "      <th>0</th>\n",
       "      <td>0.000000</td>\n",
       "      <td>1.00000</td>\n",
       "      <td>NaN</td>\n",
       "    </tr>\n",
       "    <tr>\n",
       "      <th>1</th>\n",
       "      <td>0.000049</td>\n",
       "      <td>1.00007</td>\n",
       "      <td>NaN</td>\n",
       "    </tr>\n",
       "    <tr>\n",
       "      <th>2</th>\n",
       "      <td>0.000098</td>\n",
       "      <td>1.00013</td>\n",
       "      <td>NaN</td>\n",
       "    </tr>\n",
       "    <tr>\n",
       "      <th>3</th>\n",
       "      <td>0.000146</td>\n",
       "      <td>1.00020</td>\n",
       "      <td>NaN</td>\n",
       "    </tr>\n",
       "    <tr>\n",
       "      <th>4</th>\n",
       "      <td>0.000195</td>\n",
       "      <td>1.00027</td>\n",
       "      <td>NaN</td>\n",
       "    </tr>\n",
       "  </tbody>\n",
       "</table>\n",
       "</div>"
      ],
      "text/plain": [
       "          x        y  Unnamed: 2\n",
       "0  0.000000  1.00000         NaN\n",
       "1  0.000049  1.00007         NaN\n",
       "2  0.000098  1.00013         NaN\n",
       "3  0.000146  1.00020         NaN\n",
       "4  0.000195  1.00027         NaN"
      ]
     },
     "execution_count": 34,
     "metadata": {},
     "output_type": "execute_result"
    }
   ],
   "source": [
    "table_best = pd.read_csv(\"best.csv\" , sep=';')\n",
    "table_best.head()"
   ]
  },
  {
   "cell_type": "code",
   "execution_count": 35,
   "id": "e5e61b57",
   "metadata": {},
   "outputs": [],
   "source": [
    "# def u(x, x0, c1, c2, c3, c4,  lambda_alpha, mu_alpha, lambda_beta, mu_beta ):\n",
    "#     h = float(1/len(x))\n",
    "#     u = []\n",
    "#     for k in range(0, len(x)):\n",
    "#         if (k*h < x0):\n",
    "#             u.append(c1 * np.exp(lambda_alpha * k*h) + c2 * np.exp( - lambda_alpha * k*h) + mu_alpha)\n",
    "#         if (k*h >= x0):\n",
    "#             u.append(c3 * np.exp(lambda_beta * k*h) + c4 * np.exp( - lambda_beta * k*h) + mu_beta)\n",
    "#     return u\n",
    "# #     for i in x:\n",
    "# #         if(i < x0):\n",
    "# #             return c1 * np.exp(lambda_alpha * i) + c2 * np.exp( - lambda_alpha * i) + mu_alpha\n",
    "# #         else: \n",
    "# #             return c3 * np.exp(lambda_beta * i) + c4 * np.exp( - lambda_beta * i) + mu_beta"
   ]
  },
  {
   "cell_type": "code",
   "execution_count": 36,
   "id": "ea966719",
   "metadata": {},
   "outputs": [],
   "source": [
    "def u(x, x0, c1, c2, c3, c4,  lambda_alpha, mu_alpha, lambda_beta, mu_beta ):\n",
    "    u = []\n",
    "    for k in x:\n",
    "        if (k < x0):\n",
    "            u.append(c1 * np.exp(lambda_alpha * k) + c2 * np.exp( - lambda_alpha * k) + mu_alpha)\n",
    "        if (k >= x0):\n",
    "            u.append(c3 * np.exp(lambda_beta * k) + c4 * np.exp( - lambda_beta * k) + mu_beta)\n",
    "    return u\n",
    "#     for i in x:\n",
    "#         if(i < x0):\n",
    "#             return c1 * np.exp(lambda_alpha * i) + c2 * np.exp( - lambda_alpha * i) + mu_alpha\n",
    "#         else: \n",
    "#             return c3 * np.exp(lambda_beta * i) + c4 * np.exp( - lambda_beta * i) + mu_beta"
   ]
  },
  {
   "cell_type": "code",
   "execution_count": 37,
   "id": "10990f83",
   "metadata": {},
   "outputs": [],
   "source": [
    "x0 = 1/ np.sqrt(5)\n",
    "u_0 = 1\n",
    "u_1 = 2\n",
    "\n",
    "k_a = np.sin(x0 ** 2) + 1\n",
    "k_b = k_a\n",
    "q_a = x0;\n",
    "q_b = x0 ** 3\n",
    "f_a = 1\n",
    "f_b = x0 ** 2 - 1\n",
    "\n",
    "lambda_a = np.sqrt(q_a / k_a)\n",
    "lambda_b = np.sqrt(q_b / k_b)\n",
    "\n",
    "mu_a = f_a / q_a\n",
    "mu_b = f_b / q_b\n",
    "\n",
    "A_11 = np.exp(-lambda_a * x0 ) - np.exp(lambda_a * x0)\n",
    "A_12 = np.exp(lambda_b * (2 - x0)) - np.exp(lambda_b * x0)\n",
    "A_21 = k_a * lambda_a * (np.exp(lambda_a * x0 ) + np.exp(-lambda_a * x0))\n",
    "A_22 = k_b * lambda_b * (np.exp(lambda_b * (2 - x0)) + np.exp(lambda_b * x0))\n",
    "\n",
    "B_1 = mu_b - mu_a + (mu_a - u_0 ) * np.exp(lambda_a * x0) - (mu_b - u_1)* np.exp(lambda_b* (1 - x0))\n",
    "B_2 = k_a * lambda_a * (u_0 - mu_a) * np.exp(lambda_a * x0) + k_b * lambda_b *(u_1 - mu_b)* np.exp(lambda_b* (1 - x0))\n",
    "\n",
    "c1 = (((u_0 - mu_a) * A_11 - B_1)* A_22 - ((u_0 - mu_a) * A_21 - B_2 )* A_12)/ (A_11 * A_22 - A_12 * A_21)\n",
    "c2 = (B_1 * A_22 - B_2 * A_12) / (A_11 * A_22 - A_12 * A_21 )\n",
    "c3 = (B_2 * A_11 - B_1 * A_21) / (A_11 * A_22 - A_12 * A_21 )\n",
    "c4 = (u_1 - mu_b )* np.exp(lambda_b ) - c3 * np.exp( 2 * lambda_b)\n"
   ]
  },
  {
   "cell_type": "code",
   "execution_count": 38,
   "id": "301e71b1",
   "metadata": {},
   "outputs": [
    {
     "name": "stderr",
     "output_type": "stream",
     "text": [
      "No handles with labels found to put in legend.\n"
     ]
    },
    {
     "data": {
      "image/png": "[encoded data removed]",
      "text/plain": [
       "<Figure size 864x864 with 1 Axes>"
      ]
     },
     "metadata": {
      "needs_background": "light"
     },
     "output_type": "display_data"
    }
   ],
   "source": [
    "fig,ax=plt.subplots(figsize=(12,12))\n",
    "\n",
    "#table_initial.plot(ax=ax,kind=\"line\",x=\"x\",y=\"y\", legend = None, zorder = 1)\n",
    "table_model.plot(ax=ax,kind=\"scatter\",x=\"x\",y=\"y\", color = \"red\", s = 40, zorder = 3)\n",
    "table_actual.plot(ax=ax,kind=\"scatter\",x=\"x\",y=\"y\", color = \"blue\", s = 40, zorder = 2)\n",
    "table_best.plot(ax=ax,kind=\"scatter\",x=\"x\",y=\"y\", color = \"green\", s = 1, zorder = 1)\n",
    "\n",
    "\n",
    "x = np.linspace(0,1,100)\n",
    "y = u(x, x0, c1, c2, c3, c4,  lambda_a, mu_a, lambda_b, mu_b)\n",
    "plt.plot(x,y,label = None, zorder = 2)\n",
    "plt.plot([x0, x0], [0.9, 2], \"b--\")\n",
    "plt.legend(loc = \"upper left\")\n",
    "# plt.xlim((0.95, 2.05))\n",
    "# plt.ylim((-1.05, -0.45))\n",
    "plt.grid(zorder = 1)\n",
    "plt.ylabel(r\"y\",size=15)\n",
    "plt.xlabel(r\"x\",size=15)\n",
    "\n",
    "fig.savefig(\"graph_grid.png\")"
   ]
  },
  {
   "cell_type": "code",
   "execution_count": null,
   "id": "752e43a3",
   "metadata": {},
   "outputs": [],
   "source": []
  }
 ],
 "metadata": {
  "kernelspec": {
   "display_name": "Python 3",
   "language": "python",
   "name": "python3"
  },
  "language_info": {
   "codemirror_mode": {
    "name": "ipython",
    "version": 3
   },
   "file_extension": ".py",
   "mimetype": "text/x-python",
   "name": "python",
   "nbconvert_exporter": "python",
   "pygments_lexer": "ipython3",
   "version": "3.9.4"
  }
 },
 "nbformat": 4,
 "nbformat_minor": 5
}
