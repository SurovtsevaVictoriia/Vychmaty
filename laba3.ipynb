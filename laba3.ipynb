{
 "cells": [
  {
   "cell_type": "code",
   "execution_count": 85,
   "id": "7e7433f9",
   "metadata": {},
   "outputs": [],
   "source": [
    "import pandas as pd\n",
    "from matplotlib import pyplot as plt\n",
    "import numpy as np\n",
    "import matplotlib.pyplot as plt\n",
    "import colorsys"
   ]
  },
  {
   "cell_type": "code",
   "execution_count": 86,
   "id": "8c12d1c6",
   "metadata": {},
   "outputs": [
    {
     "data": {
      "text/html": [
       "<div>\n",
       "<style scoped>\n",
       "    .dataframe tbody tr th:only-of-type {\n",
       "        vertical-align: middle;\n",
       "    }\n",
       "\n",
       "    .dataframe tbody tr th {\n",
       "        vertical-align: top;\n",
       "    }\n",
       "\n",
       "    .dataframe thead th {\n",
       "        text-align: right;\n",
       "    }\n",
       "</style>\n",
       "<table border=\"1\" class=\"dataframe\">\n",
       "  <thead>\n",
       "    <tr style=\"text-align: right;\">\n",
       "      <th></th>\n",
       "      <th>x</th>\n",
       "      <th>y</th>\n",
       "      <th>Unnamed: 2</th>\n",
       "    </tr>\n",
       "  </thead>\n",
       "  <tbody>\n",
       "    <tr>\n",
       "      <th>0</th>\n",
       "      <td>1.00000</td>\n",
       "      <td>-1.000000</td>\n",
       "      <td>NaN</td>\n",
       "    </tr>\n",
       "    <tr>\n",
       "      <th>1</th>\n",
       "      <td>1.08333</td>\n",
       "      <td>-0.923091</td>\n",
       "      <td>NaN</td>\n",
       "    </tr>\n",
       "    <tr>\n",
       "      <th>2</th>\n",
       "      <td>1.16667</td>\n",
       "      <td>-0.857166</td>\n",
       "      <td>NaN</td>\n",
       "    </tr>\n",
       "    <tr>\n",
       "      <th>3</th>\n",
       "      <td>1.25000</td>\n",
       "      <td>-0.800028</td>\n",
       "      <td>NaN</td>\n",
       "    </tr>\n",
       "    <tr>\n",
       "      <th>4</th>\n",
       "      <td>1.33333</td>\n",
       "      <td>-0.750031</td>\n",
       "      <td>NaN</td>\n",
       "    </tr>\n",
       "  </tbody>\n",
       "</table>\n",
       "</div>"
      ],
      "text/plain": [
       "         x         y  Unnamed: 2\n",
       "0  1.00000 -1.000000         NaN\n",
       "1  1.08333 -0.923091         NaN\n",
       "2  1.16667 -0.857166         NaN\n",
       "3  1.25000 -0.800028         NaN\n",
       "4  1.33333 -0.750031         NaN"
      ]
     },
     "execution_count": 86,
     "metadata": {},
     "output_type": "execute_result"
    }
   ],
   "source": [
    "table_initial = pd.read_csv(\"grid.csv\" , sep=';')\n",
    "table_initial.head()"
   ]
  },
  {
   "cell_type": "code",
   "execution_count": 87,
   "id": "767c95f6",
   "metadata": {},
   "outputs": [
    {
     "data": {
      "text/plain": [
       "13"
      ]
     },
     "execution_count": 87,
     "metadata": {},
     "output_type": "execute_result"
    }
   ],
   "source": [
    " table_initial.shape[0]"
   ]
  },
  {
   "cell_type": "code",
   "execution_count": 97,
   "id": "bb59c068",
   "metadata": {
    "scrolled": false
   },
   "outputs": [
    {
     "data": {
      "image/png": "[encoded data removed]",
      "text/plain": [
       "<Figure size 432x432 with 1 Axes>"
      ]
     },
     "metadata": {
      "needs_background": "light"
     },
     "output_type": "display_data"
    }
   ],
   "source": [
    "fig,ax=plt.subplots(figsize=(6,6))\n",
    "\n",
    "#table_initial.plot(ax=ax,kind=\"line\",x=\"x\",y=\"y\", legend = None, zorder = 1)\n",
    "table_initial.plot(ax=ax,kind=\"scatter\",x=\"x\",y=\"y\", color = \"red\", s = 25, zorder = 3)\n",
    "\n",
    "\n",
    "x = np.linspace(0.5,2.5,100)\n",
    "y = -1/x\n",
    "plt.plot(x,y,label = \"y = 1 / x\", zorder = 2)\n",
    "\n",
    "plt.legend(loc = \"upper left\")\n",
    "plt.xlim((0.95, 2.05))\n",
    "plt.ylim((-1.05, -0.45))\n",
    "plt.grid(zorder = 1)\n",
    "plt.ylabel(r\"y\",size=15)\n",
    "plt.xlabel(r\"x\",size=15)\n",
    "\n",
    "fig.savefig(\"graph_grid.pdf\")"
   ]
  },
  {
   "cell_type": "code",
   "execution_count": null,
   "id": "91f85fc4",
   "metadata": {},
   "outputs": [],
   "source": []
  },
  {
   "cell_type": "code",
   "execution_count": null,
   "id": "bfe099fb",
   "metadata": {},
   "outputs": [],
   "source": []
  }
 ],
 "metadata": {
  "celltoolbar": "Необработанный формат ячейки",
  "kernelspec": {
   "display_name": "Python 3",
   "language": "python",
   "name": "python3"
  },
  "language_info": {
   "codemirror_mode": {
    "name": "ipython",
    "version": 3
   },
   "file_extension": ".py",
   "mimetype": "text/x-python",
   "name": "python",
   "nbconvert_exporter": "python",
   "pygments_lexer": "ipython3",
   "version": "3.9.4"
  }
 },
 "nbformat": 4,
 "nbformat_minor": 5
}
