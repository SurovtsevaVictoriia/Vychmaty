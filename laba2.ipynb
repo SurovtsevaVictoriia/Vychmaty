{
 "cells": [
  {
   "cell_type": "code",
   "execution_count": 15,
   "id": "7e7433f9",
   "metadata": {},
   "outputs": [],
   "source": [
    "import pandas as pd\n",
    "from matplotlib import pyplot as plt\n",
    "import numpy as np\n",
    "import matplotlib.pyplot as plt\n",
    "import colorsys"
   ]
  },
  {
   "cell_type": "code",
   "execution_count": 45,
   "id": "f79b994e",
   "metadata": {},
   "outputs": [
    {
     "data": {
      "text/plain": [
       "1"
      ]
     },
     "execution_count": 45,
     "metadata": {},
     "output_type": "execute_result"
    }
   ],
   "source": [
    "import os\n",
    "os.system('g++ \"C:/Users/Vika/Desktop/vychmaty/Vychmaty/Суровцева_ЛР-1.cpp\" -o out.exe')\n",
    "# os.startfile(\"out.exe\")"
   ]
  },
  {
   "cell_type": "code",
   "execution_count": 17,
   "id": "8c12d1c6",
   "metadata": {},
   "outputs": [
    {
     "data": {
      "text/html": [
       "<div>\n",
       "<style scoped>\n",
       "    .dataframe tbody tr th:only-of-type {\n",
       "        vertical-align: middle;\n",
       "    }\n",
       "\n",
       "    .dataframe tbody tr th {\n",
       "        vertical-align: top;\n",
       "    }\n",
       "\n",
       "    .dataframe thead th {\n",
       "        text-align: right;\n",
       "    }\n",
       "</style>\n",
       "<table border=\"1\" class=\"dataframe\">\n",
       "  <thead>\n",
       "    <tr style=\"text-align: right;\">\n",
       "      <th></th>\n",
       "      <th>x</th>\n",
       "      <th>y</th>\n",
       "      <th>Unnamed: 2</th>\n",
       "    </tr>\n",
       "  </thead>\n",
       "  <tbody>\n",
       "    <tr>\n",
       "      <th>0</th>\n",
       "      <td>0.17453</td>\n",
       "      <td>0.000038</td>\n",
       "      <td>NaN</td>\n",
       "    </tr>\n",
       "    <tr>\n",
       "      <th>1</th>\n",
       "      <td>0.52360</td>\n",
       "      <td>0.000520</td>\n",
       "      <td>NaN</td>\n",
       "    </tr>\n",
       "    <tr>\n",
       "      <th>2</th>\n",
       "      <td>0.87267</td>\n",
       "      <td>0.002540</td>\n",
       "      <td>NaN</td>\n",
       "    </tr>\n",
       "    <tr>\n",
       "      <th>3</th>\n",
       "      <td>1.22173</td>\n",
       "      <td>0.010130</td>\n",
       "      <td>NaN</td>\n",
       "    </tr>\n",
       "    <tr>\n",
       "      <th>4</th>\n",
       "      <td>1.57080</td>\n",
       "      <td>0.036360</td>\n",
       "      <td>NaN</td>\n",
       "    </tr>\n",
       "  </tbody>\n",
       "</table>\n",
       "</div>"
      ],
      "text/plain": [
       "         x         y  Unnamed: 2\n",
       "0  0.17453  0.000038         NaN\n",
       "1  0.52360  0.000520         NaN\n",
       "2  0.87267  0.002540         NaN\n",
       "3  1.22173  0.010130         NaN\n",
       "4  1.57080  0.036360         NaN"
      ]
     },
     "execution_count": 17,
     "metadata": {},
     "output_type": "execute_result"
    }
   ],
   "source": [
    "table_initial = pd.read_csv(\"in.csv\" , sep=';')\n",
    "table_initial.head()"
   ]
  },
  {
   "cell_type": "code",
   "execution_count": 18,
   "id": "3dfcb795",
   "metadata": {},
   "outputs": [
    {
     "data": {
      "text/html": [
       "<div>\n",
       "<style scoped>\n",
       "    .dataframe tbody tr th:only-of-type {\n",
       "        vertical-align: middle;\n",
       "    }\n",
       "\n",
       "    .dataframe tbody tr th {\n",
       "        vertical-align: top;\n",
       "    }\n",
       "\n",
       "    .dataframe thead th {\n",
       "        text-align: right;\n",
       "    }\n",
       "</style>\n",
       "<table border=\"1\" class=\"dataframe\">\n",
       "  <thead>\n",
       "    <tr style=\"text-align: right;\">\n",
       "      <th></th>\n",
       "      <th>xx</th>\n",
       "      <th>yy</th>\n",
       "      <th>Unnamed: 2</th>\n",
       "    </tr>\n",
       "  </thead>\n",
       "  <tbody>\n",
       "    <tr>\n",
       "      <th>0</th>\n",
       "      <td>0.10</td>\n",
       "      <td>-0.000441</td>\n",
       "      <td>NaN</td>\n",
       "    </tr>\n",
       "    <tr>\n",
       "      <th>1</th>\n",
       "      <td>0.15</td>\n",
       "      <td>-0.000084</td>\n",
       "      <td>NaN</td>\n",
       "    </tr>\n",
       "    <tr>\n",
       "      <th>2</th>\n",
       "      <td>0.20</td>\n",
       "      <td>0.000136</td>\n",
       "      <td>NaN</td>\n",
       "    </tr>\n",
       "    <tr>\n",
       "      <th>3</th>\n",
       "      <td>0.25</td>\n",
       "      <td>0.000261</td>\n",
       "      <td>NaN</td>\n",
       "    </tr>\n",
       "    <tr>\n",
       "      <th>4</th>\n",
       "      <td>0.30</td>\n",
       "      <td>0.000326</td>\n",
       "      <td>NaN</td>\n",
       "    </tr>\n",
       "  </tbody>\n",
       "</table>\n",
       "</div>"
      ],
      "text/plain": [
       "     xx        yy  Unnamed: 2\n",
       "0  0.10 -0.000441         NaN\n",
       "1  0.15 -0.000084         NaN\n",
       "2  0.20  0.000136         NaN\n",
       "3  0.25  0.000261         NaN\n",
       "4  0.30  0.000326         NaN"
      ]
     },
     "execution_count": 18,
     "metadata": {},
     "output_type": "execute_result"
    }
   ],
   "source": [
    "table_extrapolated = pd.read_csv(\"out.csv\" , sep=';')\n",
    "table_extrapolated.head()"
   ]
  },
  {
   "cell_type": "code",
   "execution_count": 19,
   "id": "6d056b03",
   "metadata": {},
   "outputs": [
    {
     "data": {
      "text/html": [
       "<div>\n",
       "<style scoped>\n",
       "    .dataframe tbody tr th:only-of-type {\n",
       "        vertical-align: middle;\n",
       "    }\n",
       "\n",
       "    .dataframe tbody tr th {\n",
       "        vertical-align: top;\n",
       "    }\n",
       "\n",
       "    .dataframe thead th {\n",
       "        text-align: right;\n",
       "    }\n",
       "</style>\n",
       "<table border=\"1\" class=\"dataframe\">\n",
       "  <thead>\n",
       "    <tr style=\"text-align: right;\">\n",
       "      <th></th>\n",
       "      <th>xxx2</th>\n",
       "      <th>yyy2</th>\n",
       "      <th>Unnamed: 2</th>\n",
       "    </tr>\n",
       "  </thead>\n",
       "  <tbody>\n",
       "    <tr>\n",
       "      <th>0</th>\n",
       "      <td>0.90</td>\n",
       "      <td>0.002852</td>\n",
       "      <td>NaN</td>\n",
       "    </tr>\n",
       "    <tr>\n",
       "      <th>1</th>\n",
       "      <td>0.95</td>\n",
       "      <td>0.003499</td>\n",
       "      <td>NaN</td>\n",
       "    </tr>\n",
       "    <tr>\n",
       "      <th>2</th>\n",
       "      <td>1.00</td>\n",
       "      <td>0.004274</td>\n",
       "      <td>NaN</td>\n",
       "    </tr>\n",
       "    <tr>\n",
       "      <th>3</th>\n",
       "      <td>1.05</td>\n",
       "      <td>0.005210</td>\n",
       "      <td>NaN</td>\n",
       "    </tr>\n",
       "    <tr>\n",
       "      <th>4</th>\n",
       "      <td>1.10</td>\n",
       "      <td>0.006342</td>\n",
       "      <td>NaN</td>\n",
       "    </tr>\n",
       "  </tbody>\n",
       "</table>\n",
       "</div>"
      ],
      "text/plain": [
       "   xxx2      yyy2  Unnamed: 2\n",
       "0  0.90  0.002852         NaN\n",
       "1  0.95  0.003499         NaN\n",
       "2  1.00  0.004274         NaN\n",
       "3  1.05  0.005210         NaN\n",
       "4  1.10  0.006342         NaN"
      ]
     },
     "execution_count": 19,
     "metadata": {},
     "output_type": "execute_result"
    }
   ],
   "source": [
    "table_spline =  pd.read_csv(\"out2.csv\" , sep=';')\n",
    "table_spline.head()"
   ]
  },
  {
   "cell_type": "code",
   "execution_count": 20,
   "id": "bb59c068",
   "metadata": {
    "scrolled": true
   },
   "outputs": [
    {
     "data": {
      "image/png": "[encoded data removed]",
      "text/plain": [
       "<Figure size 432x432 with 1 Axes>"
      ]
     },
     "metadata": {
      "needs_background": "light"
     },
     "output_type": "display_data"
    }
   ],
   "source": [
    "fig,ax=plt.subplots(figsize=(6,6))\n",
    "\n",
    "table_initial.plot(ax=ax,kind=\"scatter\",x=\"x\",y=\"y\", color = \"red\", s = 50)\n",
    "table_extrapolated.plot(ax=ax,kind=\"line\",x=\"xx\",y=\"yy\", legend = None)\n",
    "#table_spline.plot(ax=ax,kind=\"scatter\",x=\"xxx2\",y=\"yyy2\", color = \"green\", s = 20)\n",
    "\n",
    "\n",
    "# plt.xlim((0.5, 5.5))\n",
    "plt.grid()\n",
    "plt.ylabel(r\"y\",size=15)\n",
    "plt.xlabel(r\"x\",size=15)\n",
    "\n",
    "fig.savefig(\"graph1.pdf\")"
   ]
  },
  {
   "cell_type": "code",
   "execution_count": 21,
   "id": "5ae16b3b",
   "metadata": {
    "scrolled": false
   },
   "outputs": [
    {
     "data": {
      "image/png": "[encoded data removed]",
      "text/plain": [
       "<Figure size 720x720 with 1 Axes>"
      ]
     },
     "metadata": {
      "needs_background": "light"
     },
     "output_type": "display_data"
    }
   ],
   "source": [
    "\n",
    "\n",
    "fig,ax=plt.subplots(figsize=(10,10))\n",
    "\n",
    "\n",
    "table_extrapolated.plot(ax=ax,kind=\"line\",x=\"xx\",y=\"yy\", color = \"black\", linewidth = 8, zorder = 2)\n",
    "for k in range( table_initial.shape[0] - 1):\n",
    "    table_spline =  pd.read_csv(\"out\" + str(k) + \".csv\" , sep=';')\n",
    "    table_spline.head()  \n",
    "    table_spline.plot(ax=ax,kind=\"line\",x=\"xxx\" + str(k),y=\"yyy\" + str(k), color = (colorsys.hsv_to_rgb( k * 0.17, 1, 1)), linewidth = 3, zorder = k + 2)\n",
    "\n",
    "table_initial.plot(ax=ax,kind=\"scatter\",x=\"x\",y=\"y\", color = \"red\", s = 65, zorder =table_initial.shape[0]  + 1)\n",
    "# plt.xlim((0.5, 5.5))\n",
    "\n",
    "plt.grid(zorder = 1)\n",
    "plt.ylabel(r\"y\",size=15)\n",
    "plt.xlabel(r\"x\",size=15)\n",
    "\n",
    "fig.savefig(\"graph2.pdf\")\n",
    "\n",
    "\n",
    "\n",
    "\n"
   ]
  },
  {
   "cell_type": "code",
   "execution_count": null,
   "id": "cdff2df4",
   "metadata": {},
   "outputs": [],
   "source": []
  }
 ],
 "metadata": {
  "celltoolbar": "Необработанный формат ячейки",
  "kernelspec": {
   "display_name": "Python 3",
   "language": "python",
   "name": "python3"
  },
  "language_info": {
   "codemirror_mode": {
    "name": "ipython",
    "version": 3
   },
   "file_extension": ".py",
   "mimetype": "text/x-python",
   "name": "python",
   "nbconvert_exporter": "python",
   "pygments_lexer": "ipython3",
   "version": "3.9.4"
  }
 },
 "nbformat": 4,
 "nbformat_minor": 5
}
